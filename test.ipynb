{
 "cells": [
  {
   "cell_type": "code",
   "execution_count": 17,
   "id": "7595032c",
   "metadata": {},
   "outputs": [
    {
     "name": "stdout",
     "output_type": "stream",
     "text": [
      "ImageWidth: (3056,)\n",
      "ImageLength: (1944,)\n",
      "BitsPerSample: (16,)\n",
      "Compression: (1,)\n",
      "Unknown_61441: (0,)\n",
      "Unknown_61442: (0,)\n",
      "PhotometricInterpretation: (1,)\n",
      "Unknown_61443: (1,)\n",
      "Unknown_61456: (0.0,)\n",
      "StripOffsets: (16, 146704, 293392, 440080, 586768, 733456, 880144, 1026832, 1173520, 1320208, 1466896, 1613584, 1760272, 1906960, 2053648, 2200336, 2347024, 2493712, 2640400, 2787088, 2933776, 3080464, 3227152, 3373840, 3520528, 3667216, 3813904, 3960592, 4107280, 4253968, 4400656, 4547344, 4694032, 4840720, 4987408, 5134096, 5280784, 5427472, 5574160, 5720848, 5867536, 6014224, 6160912, 6307600, 6454288, 6600976, 6747664, 6894352, 7041040, 7187728, 7334416, 7481104, 7627792, 7774480, 7921168, 8067856, 8214544, 8361232, 8507920, 8654608, 8801296, 8947984, 9094672, 9241360, 9388048, 9534736, 9681424, 9828112, 9974800, 10121488, 10268176, 10414864, 10561552, 10708240, 10854928, 11001616, 11148304, 11294992, 11441680, 11588368, 11735056)\n",
      "Unknown_61457: (0.0,)\n",
      "SamplesPerPixel: (1,)\n",
      "RowsPerStrip: (24,)\n",
      "StripByteCounts: (146688, 146688, 146688, 146688, 146688, 146688, 146688, 146688, 146688, 146688, 146688, 146688, 146688, 146688, 146688, 146688, 146688, 146688, 146688, 146688, 146688, 146688, 146688, 146688, 146688, 146688, 146688, 146688, 146688, 146688, 146688, 146688, 146688, 146688, 146688, 146688, 146688, 146688, 146688, 146688, 146688, 146688, 146688, 146688, 146688, 146688, 146688, 146688, 146688, 146688, 146688, 146688, 146688, 146688, 146688, 146688, 146688, 146688, 146688, 146688, 146688, 146688, 146688, 146688, 146688, 146688, 146688, 146688, 146688, 146688, 146688, 146688, 146688, 146688, 146688, 146688, 146688, 146688, 146688, 146688, 146688)\n",
      "XResolution: ((1104, 1),)\n",
      "YResolution: ((1104, 1),)\n",
      "ResolutionUnit: (2,)\n",
      "NewSubfileType: (0,)\n"
     ]
    }
   ],
   "source": [
    "from PIL import Image\n",
    "from PIL.TiffTags import TAGS\n",
    "\n",
    "img = Image.open('/home/till/Daten/Results/2024/20240517_Switch/large/00100000003.iif')\n",
    "meta_dict = {TAGS.get(key, f'Unknown_{key}'): img.tag[key] for key in img.tag}\n",
    "\n",
    "for k, v in meta_dict.items():\n",
    "    print(f\"{k}: {v}\")\n",
    "\n",
    "\n"
   ]
  },
  {
   "cell_type": "code",
   "execution_count": 12,
   "id": "81bca79b",
   "metadata": {},
   "outputs": [],
   "source": [
    "import tifffile"
   ]
  },
  {
   "cell_type": "code",
   "execution_count": null,
   "id": "afc6de8e",
   "metadata": {},
   "outputs": [],
   "source": []
  }
 ],
 "metadata": {
  "kernelspec": {
   "display_name": "CIL24",
   "language": "python",
   "name": "cil"
  },
  "language_info": {
   "codemirror_mode": {
    "name": "ipython",
    "version": 3
   },
   "file_extension": ".py",
   "mimetype": "text/x-python",
   "name": "python",
   "nbconvert_exporter": "python",
   "pygments_lexer": "ipython3",
   "version": "3.12.7"
  }
 },
 "nbformat": 4,
 "nbformat_minor": 5
}
