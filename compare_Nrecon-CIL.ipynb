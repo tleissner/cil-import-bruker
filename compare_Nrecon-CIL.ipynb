{
 "cells": [
  {
   "cell_type": "code",
   "execution_count": 1,
   "id": "53ebeb2e-334f-443f-a519-9ed91eee2fda",
   "metadata": {},
   "outputs": [],
   "source": [
    "# -*- coding: utf-8 -*-\n",
    "#  Copyright 2024 Till Leissner\n",
    "#\n",
    "#  Licensed under the Apache License, Version 2.0 (the \"License\");\n",
    "#  you may not use this file except in compliance with the License.\n",
    "#  You may obtain a copy of the License at\n",
    "#\n",
    "#      http://www.apache.org/licenses/LICENSE-2.0\n",
    "#\n",
    "#  Unless required by applicable law or agreed to in writing, software\n",
    "#  distributed under the License is distributed on an \"AS IS\" BASIS,\n",
    "#  WITHOUT WARRANTIES OR CONDITIONS OF ANY KIND, either express or implied.\n",
    "#  See the License for the specific language governing permissions and\n",
    "#  limitations under the License.\n",
    "#\n",
    "#   Authored by: Till Leissner (University of Southern Denmark)\n",
    "#   Edited by: \n",
    "#\n",
    "#   We acknowledge support from the ESS Lighthouse on Hard Materials in 3D, SOLID, funded by the Danish Agency for Science and Higher Education (grant No. 8144-00002B)."
   ]
  },
  {
   "cell_type": "code",
   "execution_count": 2,
   "id": "05d90a94-9909-4fcc-8661-aca5e5b7e369",
   "metadata": {},
   "outputs": [
    {
     "name": "stdout",
     "output_type": "stream",
     "text": [
      "24.0.0\n"
     ]
    }
   ],
   "source": [
    "### General imports \n",
    "import os\n",
    "import numpy as np\n",
    "import glob\n",
    "import matplotlib.pyplot as plt\n",
    "#import json\n",
    "\n",
    "### Import all CIL components needed\n",
    "import cil\n",
    "from cil.framework import ImageData, ImageGeometry\n",
    "from cil.plugins import tigre\n",
    "from cil.io import TIFFWriter, TIFFStackReader\n",
    "from cil.processors import CentreOfRotationCorrector, Binner, TransmissionAbsorptionConverter,RingRemover, Slicer\n",
    "from cil.recon import FDK\n",
    "from cil.utilities.display import show2D, show_geometry\n",
    "\n",
    "### Import custom helper functions\n",
    "import bruker2cil as bc\n",
    "\n",
    "# This notebook has been tested with CIL version 24.0.0\n",
    "print(cil.__version__)"
   ]
  },
  {
   "cell_type": "markdown",
   "id": "12c63b4a-4013-4ee3-8bcc-a392bfc2089d",
   "metadata": {},
   "source": [
    "# Introduction\n",
    "\n",
    "This notebook compares the reconstruction results obtained with CIL using the showcase notebook *bruker2cil.ipynb* with the results from the proprietar Bruker software NRecon, version XXX."
   ]
  },
  {
   "cell_type": "markdown",
   "id": "c58b04b7-a003-4b28-a102-96caed3c1650",
   "metadata": {},
   "source": [
    "# Load data sets\n",
    "\n",
    "## CIL reconstructed dataset"
   ]
  },
  {
   "cell_type": "code",
   "execution_count": 20,
   "id": "22cb9739-a8de-4a6e-89a2-b402a5334756",
   "metadata": {},
   "outputs": [],
   "source": [
    "reader = TIFFStackReader(file_name = './samples/01-switch-small/001_Rec/001__idx_0000.tiff')"
   ]
  },
  {
   "cell_type": "code",
   "execution_count": 25,
   "id": "06cf6a38-3ced-43f2-95d3-2c65afd0e3d5",
   "metadata": {},
   "outputs": [],
   "source": [
    "voxel_size=0.022999790662031325\n",
    "ig = ImageGeometry(voxel_num_x=164, voxel_num_y=164, voxel_num_z=486, voxel_size_x=voxel_size, voxel_size_y=voxel_size, voxel_size_z=voxel_size, center_x=0, center_y=0, center_z=0, channels=1)"
   ]
  },
  {
   "cell_type": "code",
   "execution_count": 27,
   "id": "44336049-b0b5-4909-bb89-84e13c483f6c",
   "metadata": {
    "scrolled": true
   },
   "outputs": [
    {
     "ename": "ValueError",
     "evalue": "Requested ImageGeometry shape is incompatible with data. Expected (164, 164), got (486, 164, 164)",
     "output_type": "error",
     "traceback": [
      "\u001b[0;31m---------------------------------------------------------------------------\u001b[0m",
      "\u001b[0;31mValueError\u001b[0m                                Traceback (most recent call last)",
      "Cell \u001b[0;32mIn[27], line 1\u001b[0m\n\u001b[0;32m----> 1\u001b[0m cil_recon \u001b[38;5;241m=\u001b[39m \u001b[43mreader\u001b[49m\u001b[38;5;241;43m.\u001b[39;49m\u001b[43mread_as_ImageData\u001b[49m\u001b[43m(\u001b[49m\u001b[43mig\u001b[49m\u001b[43m)\u001b[49m\n",
      "File \u001b[0;32m/opt/conda/envs/cil/lib/python3.12/site-packages/cil/io/TIFF.py:553\u001b[0m, in \u001b[0;36mTIFFStackReader.read_as_ImageData\u001b[0;34m(self, image_geometry)\u001b[0m\n\u001b[1;32m    545\u001b[0m \u001b[38;5;28;01mdef\u001b[39;00m \u001b[38;5;21mread_as_ImageData\u001b[39m(\u001b[38;5;28mself\u001b[39m, image_geometry):\n\u001b[1;32m    546\u001b[0m \u001b[38;5;250m    \u001b[39m\u001b[38;5;124;03m'''reads the TIFF stack as an ImageData with the provided geometry\u001b[39;00m\n\u001b[1;32m    547\u001b[0m \n\u001b[1;32m    548\u001b[0m \u001b[38;5;124;03m    Notice that the data will be reshaped to what requested in the geometry but there is\u001b[39;00m\n\u001b[0;32m   (...)\u001b[0m\n\u001b[1;32m    551\u001b[0m \u001b[38;5;124;03m    leads to sensible data.\u001b[39;00m\n\u001b[1;32m    552\u001b[0m \u001b[38;5;124;03m    '''\u001b[39;00m\n\u001b[0;32m--> 553\u001b[0m     \u001b[38;5;28;01mreturn\u001b[39;00m \u001b[38;5;28;43mself\u001b[39;49m\u001b[38;5;241;43m.\u001b[39;49m\u001b[43m_read_as\u001b[49m\u001b[43m(\u001b[49m\u001b[43mimage_geometry\u001b[49m\u001b[43m)\u001b[49m\n",
      "File \u001b[0;32m/opt/conda/envs/cil/lib/python3.12/site-packages/cil/io/TIFF.py:531\u001b[0m, in \u001b[0;36mTIFFStackReader._read_as\u001b[0;34m(self, geometry)\u001b[0m\n\u001b[1;32m    528\u001b[0m     \u001b[38;5;28;01mreturn\u001b[39;00m \u001b[38;5;28mself\u001b[39m\u001b[38;5;241m.\u001b[39m_return_appropriate_data(reshaped, geometry)\n\u001b[1;32m    530\u001b[0m \u001b[38;5;28;01mif\u001b[39;00m data\u001b[38;5;241m.\u001b[39mshape \u001b[38;5;241m!=\u001b[39m geometry\u001b[38;5;241m.\u001b[39mshape:\n\u001b[0;32m--> 531\u001b[0m     \u001b[38;5;28;01mraise\u001b[39;00m \u001b[38;5;167;01mValueError\u001b[39;00m(\u001b[38;5;124m'\u001b[39m\u001b[38;5;124mRequested \u001b[39m\u001b[38;5;132;01m{}\u001b[39;00m\u001b[38;5;124m shape is incompatible with data. Expected \u001b[39m\u001b[38;5;132;01m{}\u001b[39;00m\u001b[38;5;124m, got \u001b[39m\u001b[38;5;132;01m{}\u001b[39;00m\u001b[38;5;124m'\u001b[39m\\\n\u001b[1;32m    532\u001b[0m         \u001b[38;5;241m.\u001b[39mformat(geometry\u001b[38;5;241m.\u001b[39m\u001b[38;5;18m__class__\u001b[39m\u001b[38;5;241m.\u001b[39m\u001b[38;5;18m__name__\u001b[39m, data\u001b[38;5;241m.\u001b[39mshape, geometry\u001b[38;5;241m.\u001b[39mshape))\n\u001b[1;32m    534\u001b[0m \u001b[38;5;28;01mreturn\u001b[39;00m \u001b[38;5;28mself\u001b[39m\u001b[38;5;241m.\u001b[39m_return_appropriate_data(data, geometry)\n",
      "\u001b[0;31mValueError\u001b[0m: Requested ImageGeometry shape is incompatible with data. Expected (164, 164), got (486, 164, 164)"
     ]
    }
   ],
   "source": [
    "cil_recon = reader.read_as_ImageData(ig)"
   ]
  }
 ],
 "metadata": {
  "kernelspec": {
   "display_name": "CIL24",
   "language": "python",
   "name": "cil"
  },
  "language_info": {
   "codemirror_mode": {
    "name": "ipython",
    "version": 3
   },
   "file_extension": ".py",
   "mimetype": "text/x-python",
   "name": "python",
   "nbconvert_exporter": "python",
   "pygments_lexer": "ipython3",
   "version": "3.12.4"
  }
 },
 "nbformat": 4,
 "nbformat_minor": 5
}
